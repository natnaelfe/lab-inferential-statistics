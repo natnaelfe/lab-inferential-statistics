{
 "cells": [
  {
   "cell_type": "markdown",
   "id": "d0dcddc7",
   "metadata": {},
   "source": [
    "# Instructions"
   ]
  },
  {
   "cell_type": "markdown",
   "id": "2842aec0",
   "metadata": {},
   "source": [
    "It is assumed that the mean systolic blood pressure is μ = 120 mm Hg. In the Honolulu Heart Study, a sample of n = 100 people had an average systolic blood pressure of 130.1 mm Hg with a standard deviation of 21.21 mm Hg. Is the group significantly different (with respect to systolic blood pressure!) from the regular population?\n",
    "\n",
    "- Set up the hypothesis test.\n",
    "- Write down all the steps followed for setting up the test.\n",
    "- Calculate the test statistic by hand and also code it in Python. It should be 4.76190. We will take a look at how to make decisions based on this calculated value."
   ]
  },
  {
   "cell_type": "markdown",
   "id": "704b1149",
   "metadata": {},
   "source": [
    "# Set up the hypothesis test"
   ]
  },
  {
   "cell_type": "code",
   "execution_count": 1,
   "id": "58ad266e",
   "metadata": {},
   "outputs": [],
   "source": [
    "import math\n",
    "from scipy.stats import t"
   ]
  },
  {
   "cell_type": "markdown",
   "id": "c3de46f1",
   "metadata": {},
   "source": [
    "### Step 1: State the hypotheses"
   ]
  },
  {
   "cell_type": "markdown",
   "id": "2a3d953b",
   "metadata": {},
   "source": [
    "- Null hypothesis (H0): The group's mean systolic blood pressure is equal to the population mean (μ = 120 mm Hg).\n",
    "- Alternative hypothesis (Ha): The group's mean systolic blood pressure is significantly different from the population mean (μ ≠ 120 mm Hg)."
   ]
  },
  {
   "cell_type": "markdown",
   "id": "11733067",
   "metadata": {},
   "source": [
    "### Step 2: Select the level of significance (α)"
   ]
  },
  {
   "cell_type": "markdown",
   "id": "dcee7196",
   "metadata": {},
   "source": [
    "Let's assume a significance level of α = 0.05, which corresponds to a 95% confidence level."
   ]
  },
  {
   "cell_type": "markdown",
   "id": "6abe0060",
   "metadata": {},
   "source": [
    "### Step 3: Collect sample data and calculate sample statistics"
   ]
  },
  {
   "cell_type": "code",
   "execution_count": 2,
   "id": "23112b2f",
   "metadata": {},
   "outputs": [],
   "source": [
    "sample_mean = 130.1\n",
    "pop_mean = 120\n",
    "sample_std = 21.21\n",
    "n = 100"
   ]
  },
  {
   "cell_type": "markdown",
   "id": "ffda3651",
   "metadata": {},
   "source": [
    "### Step 4: Calculate the test statistic"
   ]
  },
  {
   "cell_type": "code",
   "execution_count": 3,
   "id": "b958ef40",
   "metadata": {},
   "outputs": [
    {
     "data": {
      "text/plain": [
       "4.761904761904759"
      ]
     },
     "execution_count": 3,
     "metadata": {},
     "output_type": "execute_result"
    }
   ],
   "source": [
    "test_statistic = (sample_mean - pop_mean) / (sample_std / math.sqrt(n))\n",
    "test_statistic"
   ]
  },
  {
   "cell_type": "markdown",
   "id": "27248097",
   "metadata": {},
   "source": [
    "### Step 5: Determine the critical value"
   ]
  },
  {
   "cell_type": "code",
   "execution_count": 4,
   "id": "d0792d6e",
   "metadata": {},
   "outputs": [
    {
     "data": {
      "text/plain": [
       "1.9709056010779904"
      ]
     },
     "execution_count": 4,
     "metadata": {},
     "output_type": "execute_result"
    }
   ],
   "source": [
    "alpha = 0.05\n",
    "df = 218\n",
    "\n",
    "critical_value = t.ppf(1 - alpha/2, df)\n",
    "critical_value"
   ]
  },
  {
   "cell_type": "code",
   "execution_count": 5,
   "id": "78d93918",
   "metadata": {},
   "outputs": [
    {
     "data": {
      "text/plain": [
       "3.4955915990388697e-06"
      ]
     },
     "execution_count": 5,
     "metadata": {},
     "output_type": "execute_result"
    }
   ],
   "source": [
    "from scipy.stats import t\n",
    "p_value = t.sf(abs(test_statistic), df = 218)*2  #(two-tailed)\n",
    "p_value"
   ]
  },
  {
   "cell_type": "markdown",
   "id": "3a2ca524",
   "metadata": {},
   "source": [
    "### Step 6: Interpretation"
   ]
  },
  {
   "cell_type": "markdown",
   "id": "39b3a9d1",
   "metadata": {},
   "source": [
    "The calculated t-value is beyond the critical values, which is why we reject the null hypothesis and conclude that the group's mean systolic blood pressure is significantly different from the population mean. "
   ]
  }
 ],
 "metadata": {
  "kernelspec": {
   "display_name": "Python 3 (ipykernel)",
   "language": "python",
   "name": "python3"
  },
  "language_info": {
   "codemirror_mode": {
    "name": "ipython",
    "version": 3
   },
   "file_extension": ".py",
   "mimetype": "text/x-python",
   "name": "python",
   "nbconvert_exporter": "python",
   "pygments_lexer": "ipython3",
   "version": "3.9.13"
  }
 },
 "nbformat": 4,
 "nbformat_minor": 5
}
